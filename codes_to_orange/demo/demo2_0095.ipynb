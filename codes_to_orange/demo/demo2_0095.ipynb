{
 "cells": [
  {
   "cell_type": "code",
   "execution_count": 1,
   "metadata": {},
   "outputs": [
    {
     "name": "stdout",
     "output_type": "stream",
     "text": [
      "Person ID Rerank: 0095, Frame Number: t0190, image View: c2\n",
      "Person ID Rerank: 0095, Frame Number: t0210, image View: c2\n",
      "Person ID Rerank: 0095, Frame Number: t0215, image View: c2\n",
      "Person ID Rerank: 0095, Frame Number: t0225, image View: c2\n",
      "Person ID Rerank: 0095, Frame Number: t0230, image View: c2\n",
      "Person ID Rerank: 0095, Frame Number: t0235, image View: c2\n",
      "Person ID Rerank: 0095, Frame Number: t0240, image View: c2\n",
      "Person ID Rerank: 0095, Frame Number: t0245, image View: c2\n",
      "Person ID Rerank: 0095, Frame Number: t0250, image View: c2\n",
      "Person ID Rerank: 0095, Frame Number: t0255, image View: c2\n",
      "Person ID Rerank: 0095, Frame Number: t0260, image View: c2\n",
      "Person ID Rerank: 0095, Frame Number: t0265, image View: c2\n",
      "Person ID Rerank: 0095, Frame Number: t0270, image View: c2\n",
      "Person ID Rerank: 0095, Frame Number: t0275, image View: c2\n",
      "Person ID Rerank: 0095, Frame Number: t0280, image View: c2\n",
      "Person ID Rerank: 0095, Frame Number: t0285, image View: c2\n",
      "Person ID Rerank: 0095, Frame Number: t0290, image View: c2\n",
      "Person ID Rerank: 0095, Frame Number: t0295, image View: c2\n",
      "符合条件的结果数量为:  18\n"
     ]
    }
   ],
   "source": [
    "import cv2\n",
    "import os\n",
    "import json\n",
    "import numpy as np\n",
    "\n",
    "\n",
    "\n",
    "file_path = '/data02/zhangrunxiang/reid1/fast-reid/orange_demo/video/0095_c2_t0175to0300/results.txt'\n",
    "\n",
    "matched_results = []  # 用于存储符合条件的结果\n",
    "data = []\n",
    "\n",
    "with open(file_path, 'r') as file:\n",
    "    for line in file:\n",
    "        line_data = line.strip().split('\\t')\n",
    "\n",
    "        image_path = line_data[0]\n",
    "        success = True if line_data[1] == 'True' else False\n",
    "        similarity_distance = float(line_data[2])\n",
    "        data.append([image_path, success, similarity_distance])\n",
    "\n",
    "# 对所有数据进行检测\n",
    "for item in data:\n",
    "    image_path, success, similarity_distance = item\n",
    "\n",
    "    parts = image_path.split('/')\n",
    "    filename_part = parts[-1]\n",
    "    filename_parts = filename_part.split('_')\n",
    "    \n",
    "    # 提取视角信息\n",
    "    person_view = filename_parts[1]\n",
    "\n",
    "    for part in filename_parts:\n",
    "        if part.isdigit() and len(part) == 4:\n",
    "            person_id_rerank = part\n",
    "            frame_number = filename_parts[-1].split('.')[0]\n",
    "            if similarity_distance < 0.4 and success:\n",
    "                matched_results.append((person_id_rerank, frame_number, person_view))\n",
    "\n",
    "# 打印所有符合条件的person_id_rerank、帧数和视角\n",
    "for item in matched_results:\n",
    "    print(\"Person ID Rerank: {}, Frame Number: {}, image View: {}\".format(item[0], item[1], item[2]))\n",
    "    \n",
    "\n",
    "print(\"符合条件的结果数量为: \", len(matched_results))#符合条件结果有18"
   ]
  },
  {
   "cell_type": "code",
   "execution_count": 8,
   "metadata": {},
   "outputs": [
    {
     "name": "stdout",
     "output_type": "stream",
     "text": [
      "0136\n",
      "desired_position:  {'t0295': {'viewNum': 1, 'xmax': 734, 'xmin': 347, 'ymax': 1203, 'ymin': 113}, 't0245': {'viewNum': 1, 'xmax': 991, 'xmin': 897, 'ymax': 368, 'ymin': 16}, 't0290': {'viewNum': 1, 'xmax': 820, 'xmin': 531, 'ymax': 973, 'ymin': 85}, 't0230': {'viewNum': 1, 'xmax': 975, 'xmin': 898, 'ymax': 302, 'ymin': 10}, 't0275': {'viewNum': 1, 'xmax': 937, 'xmin': 769, 'ymax': 634, 'ymin': 46}, 't0215': {'viewNum': 1, 'xmax': 992, 'xmin': 925, 'ymax': 260, 'ymin': 5}, 't0280': {'viewNum': 1, 'xmax': 926, 'xmin': 730, 'ymax': 724, 'ymin': 56}, 't0225': {'viewNum': 1, 'xmax': 963, 'xmin': 887, 'ymax': 292, 'ymin': 9}, 't0250': {'viewNum': 1, 'xmax': 987, 'xmin': 884, 'ymax': 406, 'ymin': 20}, 't0285': {'viewNum': 1, 'xmax': 877, 'xmin': 642, 'ymax': 833, 'ymin': 68}, 't0210': {'viewNum': 1, 'xmax': 955, 'xmin': 889, 'ymax': 250, 'ymin': 4}, 't0270': {'viewNum': 1, 'xmax': 956, 'xmin': 810, 'ymax': 562, 'ymin': 38}, 't0260': {'viewNum': 1, 'xmax': 973, 'xmin': 853, 'ymax': 471, 'ymin': 28}, 't0190': {'viewNum': 1, 'xmax': 905, 'xmin': 848, 'ymax': 211, 'ymin': 1}, 't0240': {'viewNum': 1, 'xmax': 991, 'xmin': 904, 'ymax': 342, 'ymin': 14}, 't0265': {'viewNum': 1, 'xmax': 959, 'xmin': 826, 'ymax': 513, 'ymin': 32}, 't0255': {'viewNum': 1, 'xmax': 991, 'xmin': 883, 'ymax': 426, 'ymin': 23}, 't0235': {'viewNum': 1, 'xmax': 983, 'xmin': 902, 'ymax': 319, 'ymin': 11}}\n"
     ]
    }
   ],
   "source": [
    "\n",
    "import json\n",
    "# 指定JSON文件路径\n",
    "json_file_path = '/data02/zhangrunxiang/reid1/fast-reid/scripts/r2o.json'\n",
    "\n",
    "# 加载JSON文件中的数据\n",
    "with open(json_file_path, 'r') as file:\n",
    "    json_data = json.load(file)\n",
    "\n",
    "person_id_rerank = item[0]\n",
    "person_id = json_data.get(person_id_rerank)#这里就把rerank的id变成了原始id\n",
    "print(person_id)\n",
    "\n",
    "# 指定JSON文件目录路径\n",
    "json_directory = '/data02/zhangrunxiang/reid1/datasets/Wildtrack_dataset_full/Wildtrack_dataset/annotations_positions/'\n",
    "\n",
    "# 遍历matched_results，提取所有的帧数信息\n",
    "frame_numbers_to_search = set(item[1] for item in matched_results)\n",
    "desired_position = {}  # 用于存储行人ID、帧数和视角为5的信息\n",
    "\n",
    "for frame_number in frame_numbers_to_search:\n",
    "    # 构建要查找的JSON文件名\n",
    "    json_file_name = '0000' + frame_number[1:] + '.json'\n",
    "    json_file_path = json_directory + json_file_name\n",
    "\n",
    "    # 加载JSON文件中的数据\n",
    "    with open(json_file_path, 'r') as file:\n",
    "        json_data = json.load(file)\n",
    "        desired_info = None\n",
    "        person_id = int(person_id)\n",
    "        for person_info in json_data:\n",
    "            if person_info.get(\"personID\") == person_id:\n",
    "                for view_info in person_info.get(\"views\", []):\n",
    "                    if view_info.get(\"viewNum\") == 1:  # 视角为1对应c2\n",
    "                        desired_position[(frame_number)] = view_info\n",
    "                        break\n",
    "print(\"desired_position: \", desired_position)\n",
    "\n"
   ]
  },
  {
   "cell_type": "code",
   "execution_count": 9,
   "metadata": {},
   "outputs": [
    {
     "name": "stdout",
     "output_type": "stream",
     "text": [
      "所有图片已成功复制到路径: /data02/zhangrunxiang/demo/baseline_image/gallery0095/\n",
      "带有框的图像已保存在路径: /data02/zhangrunxiang/demo/baseline_image/gallery0095/\n"
     ]
    }
   ],
   "source": [
    "import cv2\n",
    "import os\n",
    "import shutil\n",
    "\n",
    "# 指定要处理的图像文件路径和保存路径\n",
    "file_path = '/data02/zhangrunxiang/reid1/datasets/Wildtrack_dataset_full/Wildtrack_dataset/Image_subsets/C2/'\n",
    "save_path = '/data02/zhangrunxiang/demo/baseline_image/baseline_gallery0095/'\n",
    "\n",
    "# 创建保存路径文件夹\n",
    "os.makedirs(save_path, exist_ok=True)\n",
    "\n",
    "start_frame = 175\n",
    "end_frame = 300\n",
    "step = 5\n",
    "\n",
    "\n",
    "# 复制文件到目标路径,视角下对应帧数图片复制到目标路径\n",
    "for video_frame in range(start_frame, end_frame+1, step):\n",
    "    source_file = os.path.join(file_path, f'{video_frame:08d}.png')  # 根据序号生成源文件路径\n",
    "    destination_file = os.path.join(save_path, f'{video_frame:08d}.png')  # 根据序号生成目标文件路径\n",
    "    shutil.copy(source_file, destination_file)\n",
    "\n",
    "\n",
    "print(\"所有图片已成功复制到路径:\", save_path)\n",
    "\n",
    "\n",
    "# 遍历desired_position中所有帧数信息\n",
    "for frame_number, info in desired_position.items():\n",
    "    # 构建图像文件名\n",
    "    image_filename = '0000' + frame_number[1:] + '.png'\n",
    "    image_path = file_path + image_filename\n",
    "\n",
    "    # 加载图像\n",
    "    image = cv2.imread(image_path)\n",
    "\n",
    "    # 获取坐标信息\n",
    "    xmin = info['xmin']\n",
    "    ymin = info['ymin']\n",
    "    xmax = info['xmax']\n",
    "    ymax = info['ymax']\n",
    "\n",
    "    # 在图像上绘制矩形框\n",
    "    cv2.rectangle(image, (xmin, ymin), (xmax, ymax), (0, 255, 0), 2)\n",
    "\n",
    "    # 构建保存路径和文件名\n",
    "    save_filename =  image_filename\n",
    "    save_image_path = os.path.join(save_path, save_filename)\n",
    "\n",
    "    # 保存带有框的图像\n",
    "    cv2.imwrite(save_image_path, image, [int(cv2.IMWRITE_PNG_COMPRESSION), 0])\n",
    "\n",
    "\n",
    "print(\"带有框的图像已保存在路径:\", save_path)\n"
   ]
  },
  {
   "cell_type": "markdown",
   "metadata": {},
   "source": [
    "实现过程\n",
    "1，相似距离大，判断没识别出来；相似距离小于阈值，判定为true，识别出来了\n",
    "2，用rerank的id，找原始id,根据原始id和视角,在对应帧数找到相应视角的位置"
   ]
  }
 ],
 "metadata": {
  "kernelspec": {
   "display_name": "python36",
   "language": "python",
   "name": "python3"
  },
  "language_info": {
   "codemirror_mode": {
    "name": "ipython",
    "version": 3
   },
   "file_extension": ".py",
   "mimetype": "text/x-python",
   "name": "python",
   "nbconvert_exporter": "python",
   "pygments_lexer": "ipython3",
   "version": "3.6.13"
  }
 },
 "nbformat": 4,
 "nbformat_minor": 2
}
