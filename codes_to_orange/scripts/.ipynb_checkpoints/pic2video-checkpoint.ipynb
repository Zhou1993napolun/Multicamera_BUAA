{
 "cells": [
  {
   "cell_type": "code",
   "execution_count": 13,
   "metadata": {},
   "outputs": [],
   "source": [
    "import os\n",
    "import cv2\n",
    "import time"
   ]
  },
  {
   "cell_type": "code",
   "execution_count": 14,
   "metadata": {},
   "outputs": [
    {
     "data": {
      "text/plain": [
       "'/data02/zhangrunxiang/demo/demo'"
      ]
     },
     "execution_count": 14,
     "metadata": {},
     "output_type": "execute_result"
    }
   ],
   "source": [
    "pwd"
   ]
  },
  {
   "cell_type": "code",
   "execution_count": 15,
   "metadata": {},
   "outputs": [
    {
     "name": "stdout",
     "output_type": "stream",
     "text": [
      "26\n"
     ]
    }
   ],
   "source": [
    "# 图片文件夹路径\n",
    "# image_folder = '/data02/zhangrunxiang/demo/baseline_image/mv_video_gallery0134'\n",
    "# image_folder = '/data02/zhangrunxiang/demo/baseline_image/mv_video_mindistance_gallery0134'\n",
    "# image_folder = '/data02/zhangrunxiang/demo/baseline_image/mv_video_mindistance_gallery0095'\n",
    "image_folder = '/data02/zhangrunxiang/demo/baseline_image/mv_video_singleview_gallery0095'\n",
    "# image_folder = '/data02/zhangrunxiang/demo/baseline_image/mv_video_singleview_gallery0134'\n",
    "# image_folder = '/data02/zhangrunxiang/demo/baseline_image/mv_video_singleview_c2_gallery0134'\n",
    "# image_folder = '/data02/zhangrunxiang/demo/baseline_image/mv_video_singleview_c1_gallery0095'\n",
    "\n",
    "\n",
    "# 输出视频文件名，保存到与图片文件夹相同位置\n",
    "video_name = os.path.join(image_folder, image_folder.split('/')[-1] + '_output.mp4')\n",
    "\n",
    "# 获取图片文件夹下所有图片文件名\n",
    "images = [img for img in os.listdir(image_folder) if img.endswith(\".png\")]\n",
    "print(len(images))"
   ]
  },
  {
   "cell_type": "code",
   "execution_count": 16,
   "metadata": {},
   "outputs": [
    {
     "name": "stdout",
     "output_type": "stream",
     "text": [
      "Video created successfully\n"
     ]
    }
   ],
   "source": [
    "\n",
    "\n",
    "# 按照文件名排序图片文件\n",
    "images.sort(key=lambda x: int(x.split('.')[0]))\n",
    "\n",
    "# 获取第一张图片的宽度和高度\n",
    "frame = cv2.imread(os.path.join(image_folder, images[0]))\n",
    "height, width, layers = frame.shape\n",
    "\n",
    "# 创建视频编写器\n",
    "fourcc = cv2.VideoWriter_fourcc(*'mp4v')\n",
    "video = cv2.VideoWriter(video_name, fourcc, 4, (width, height))\n",
    "\n",
    "# 逐帧写入视频\n",
    "for image in images:\n",
    "    video.write(cv2.imread(os.path.join(image_folder, image)))\n",
    "\n",
    "# # 重新写入丢失的帧\n",
    "# missing_frames = []\n",
    "# success_count = 0\n",
    "# for idx, image in enumerate(images):\n",
    "#     img = cv2.imread(os.path.join(image_folder, image))\n",
    "#     if img is not None:\n",
    "#         video.write(img)\n",
    "#         success_count += 1\n",
    "#     else:\n",
    "#         missing_frames.append(idx)\n",
    "\n",
    "# # 重新写入丢失的帧\n",
    "# for idx in missing_frames:\n",
    "#     img = cv2.imread(os.path.join(image_folder, images[idx]))\n",
    "#     if img is not None:\n",
    "#         video.write(img)\n",
    "#         success_count += 1\n",
    "\n",
    "\n",
    "# 释放资源\n",
    "cv2.destroyAllWindows()\n",
    "video.release()\n",
    "# if success_count == len(images):\n",
    "#     print(\"All frames have been successfully written to the video.\")\n",
    "# else:\n",
    "#     print(\"Some frames may not have been written to the video.\")\n",
    "\n",
    "print(\"Video created successfully\")\n"
   ]
  }
 ],
 "metadata": {
  "kernelspec": {
   "display_name": "fast",
   "language": "python",
   "name": "python3"
  },
  "language_info": {
   "codemirror_mode": {
    "name": "ipython",
    "version": 3
   },
   "file_extension": ".py",
   "mimetype": "text/x-python",
   "name": "python",
   "nbconvert_exporter": "python",
   "pygments_lexer": "ipython3",
   "version": "3.6.13"
  },
  "orig_nbformat": 4
 },
 "nbformat": 4,
 "nbformat_minor": 2
}
