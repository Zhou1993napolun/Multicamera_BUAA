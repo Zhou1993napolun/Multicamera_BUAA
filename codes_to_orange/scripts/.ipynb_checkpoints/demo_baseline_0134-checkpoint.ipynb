{
 "cells": [
  {
   "cell_type": "code",
   "execution_count": 5,
   "metadata": {},
   "outputs": [
    {
     "name": "stdout",
     "output_type": "stream",
     "text": [
      "Person ID Rerank: 0134, Frame Number: t0870, image View: c6\n",
      "Person ID Rerank: 0134, Frame Number: t0875, image View: c6\n",
      "Person ID Rerank: 0134, Frame Number: t0885, image View: c6\n",
      "Person ID Rerank: 0134, Frame Number: t0910, image View: c6\n",
      "符合条件的结果数量为:  4\n"
     ]
    }
   ],
   "source": [
    "import cv2\n",
    "import os\n",
    "import json\n",
    "import numpy as np\n",
    "\n",
    "\n",
    "\n",
    "# file_path = '/data02/zhangrunxiang/reid1/fast-reid/orange_demo/video/0134_c6_t0860to0945/results.txt'\n",
    "file_path = 'C:/Users/tt186/Desktop/stage_orange/项目2_multicamera/Codes_v2/codes_to_orange/codes_to_orange/orange_demo/video/0134_c6_t0860to0945/results.txt'\n",
    "matched_results = []  # 用于存储符合条件的结果\n",
    "data = []\n",
    "\n",
    "with open(file_path, 'r') as file:\n",
    "    for line in file:\n",
    "        line_data = line.strip().split('\\t')\n",
    "\n",
    "        image_path = line_data[0]\n",
    "        success = True if line_data[1] == 'True' else False\n",
    "        similarity_distance = float(line_data[2])\n",
    "        data.append([image_path, success, similarity_distance])\n",
    "\n",
    "# 对所有数据进行检测\n",
    "for item in data:\n",
    "    image_path, success, similarity_distance = item\n",
    "\n",
    "    parts = image_path.split('/')\n",
    "    filename_part = parts[-1]\n",
    "    filename_parts = filename_part.split('_')\n",
    "    \n",
    "    # 提取视角信息\n",
    "    person_view = filename_parts[1]\n",
    "\n",
    "    for part in filename_parts:\n",
    "        if part.isdigit() and len(part) == 4:\n",
    "            person_id_rerank = part\n",
    "            frame_number = filename_parts[-1].split('.')[0]\n",
    "            if similarity_distance < 0.6 and success:\n",
    "                matched_results.append((person_id_rerank, frame_number, person_view))\n",
    "\n",
    "# 打印所有符合条件的person_id_rerank、帧数和视角\n",
    "for item in matched_results:\n",
    "    print(\"Person ID Rerank: {}, Frame Number: {}, image View: {}\".format(item[0], item[1], item[2]))\n",
    "print(\"符合条件的结果数量为: \", len(matched_results))\n",
    "    \n",
    "\n"
   ]
  },
  {
   "cell_type": "code",
   "execution_count": 8,
   "metadata": {},
   "outputs": [
    {
     "name": "stdout",
     "output_type": "stream",
     "text": [
      "desired_position:  {'t0870': {'viewNum': 5, 'xmax': 856, 'xmin': 828, 'ymax': 241, 'ymin': 121}, 't0875': {'viewNum': 5, 'xmax': 815, 'xmin': 787, 'ymax': 238, 'ymin': 120}, 't0885': {'viewNum': 5, 'xmax': 748, 'xmin': 720, 'ymax': 233, 'ymin': 119}, 't0910': {'viewNum': 5, 'xmax': 623, 'xmin': 597, 'ymax': 223, 'ymin': 116}}\n"
     ]
    }
   ],
   "source": [
    "\n",
    "import json\n",
    "# 指定JSON文件路径\n",
    "# json_file_path = '/data02/zhangrunxiang/reid1/fast-reid/scripts/r2o.json'\n",
    "json_file_path = 'C:/Users/tt186/Desktop/stage_orange/项目2_multicamera/Codes_v2/codes_to_orange/codes_to_orange/scripts/r2o.json'\n",
    "\n",
    "# 加载JSON文件中的数据\n",
    "with open(json_file_path, 'r') as file:\n",
    "    json_data = json.load(file)\n",
    "\n",
    "person_id_rerank = item[0]\n",
    "person_id = json_data.get(person_id_rerank)#这里就把rerank的id变成了原始id\n",
    "\n",
    "# 指定JSON文件目录路径\n",
    "json_directory = 'X:/COCO/Multicamera/Wildtrack/Wildtrack_dataset_full/Wildtrack_dataset/annotations_positions/'\n",
    "\n",
    "# 遍历matched_results，提取所有的帧数信息\n",
    "frame_numbers_to_search = set(item[1] for item in matched_results)\n",
    "desired_position = {}  # 用于存储行人ID、帧数和视角为5的信息\n",
    "\n",
    "for frame_number in frame_numbers_to_search:\n",
    "    # 构建要查找的JSON文件名\n",
    "    json_file_name = '0000' + frame_number[1:] + '.json'\n",
    "    json_file_path = json_directory + json_file_name\n",
    "\n",
    "    # 加载JSON文件中的数据\n",
    "    with open(json_file_path, 'r') as file:\n",
    "        json_data = json.load(file)\n",
    "        desired_info = None\n",
    "        person_id = int(person_id)\n",
    "        for person_info in json_data:\n",
    "            if person_info.get(\"personID\") == person_id:\n",
    "                for view_info in person_info.get(\"views\", []):\n",
    "                    if view_info.get(\"viewNum\") == 5:  # 视角为5对应c6\n",
    "                        desired_position[(frame_number)] = view_info\n",
    "                        break\n",
    "print(\"desired_position: \", desired_position)\n",
    "\n"
   ]
  },
  {
   "cell_type": "code",
   "execution_count": 13,
   "metadata": {},
   "outputs": [
    {
     "name": "stdout",
     "output_type": "stream",
     "text": [
      "所有图片已成功复制到路径: C:/Users/tt186/Desktop/stage_orange/项目2_multicamera/basline结果/baseline_gallery0134/\n",
      "t0870 828 121 856 241\n",
      "t0875 787 120 815 238\n",
      "t0885 720 119 748 233\n",
      "t0910 597 116 623 223\n",
      "带有框的图像已保存在路径: C:/Users/tt186/Desktop/stage_orange/项目2_multicamera/basline结果/baseline_gallery0134/\n"
     ]
    }
   ],
   "source": [
    "import cv2\n",
    "import os\n",
    "import shutil\n",
    "\n",
    "# 指定要处理的图像文件路径和保存路径\n",
    "# file_path = '/data02/zhangrunxiang/reid1/datasets/Wildtrack_dataset_full/Wildtrack_dataset/Image_subsets/C6/'\n",
    "file_path = 'X:/COCO/Multicamera/Wildtrack/Wildtrack_dataset_full/Wildtrack_dataset/Image_subsets/C6/'\n",
    "# save_path = '/data02/zhangrunxiang/demo/baseline_image/baseline_gallery0134/'\n",
    "save_path = 'C:/Users/tt186/Desktop/stage_orange/multicamera_result/baseline_gallery0134/'\n",
    "\n",
    "# 创建保存路径文件夹\n",
    "os.makedirs(save_path, exist_ok=True)\n",
    "\n",
    "start_frame = 860\n",
    "end_frame = 945\n",
    "step = 5\n",
    "\n",
    "\n",
    "# 复制文件到目标路径,视角下对应帧数图片复制到目标路径\n",
    "for video_frame in range(start_frame, end_frame+1, step):\n",
    "    source_file = os.path.join(file_path, f'{video_frame:08d}.png')  # 根据序号生成源文件路径\n",
    "    destination_file = os.path.join(save_path, f'{video_frame:08d}.png')  # 根据序号生成目标文件路径\n",
    "    shutil.copy(source_file, destination_file)\n",
    "\n",
    "\n",
    "print(\"所有图片已成功复制到路径:\", save_path)\n",
    "# 遍历desired_position中所有帧数信息\n",
    "for frame_number, info in desired_position.items():\n",
    "    # 构建图像文件名\n",
    "    image_filename = '0000' + frame_number[1:] + '.png'\n",
    "    image_path = file_path + image_filename\n",
    "\n",
    "    # 加载图像\n",
    "    image = cv2.imread(image_path)\n",
    "\n",
    "    # 获取坐标信息\n",
    "    xmin = info['xmin']\n",
    "    ymin = info['ymin']\n",
    "    xmax = info['xmax']\n",
    "    ymax = info['ymax']\n",
    "    ##########################################################\n",
    "    print(frame_number,xmin,ymin,xmax,ymax)\n",
    "    ##########################################################\n",
    "    \n",
    "    # 在图像上绘制矩形框\n",
    "    cv2.rectangle(image, (xmin, ymin), (xmax, ymax), (0, 0, 255), 2)\n",
    "\n",
    "    # 构建保存路径和文件名\n",
    "    save_filename = image_filename\n",
    "    save_image_path = os.path.join(save_path, save_filename)\n",
    "\n",
    "    # 保存带有框的图像\n",
    "    cv2.imwrite(save_image_path, image, [int(cv2.IMWRITE_PNG_COMPRESSION), 0])\n",
    "\n",
    "print(\"带有框的图像已保存在路径:\", save_path)\n"
   ]
  },
  {
   "cell_type": "markdown",
   "metadata": {},
   "source": [
    "实现过程\n",
    "1，相似距离大，判断没识别出来；相似距离小于阈值，判定为true，识别出来了\n",
    "2，用rerank的id，找原始id,根据原始id和视角,在对应帧数找到相应视角的位置"
   ]
  },
  {
   "cell_type": "code",
   "execution_count": 18,
   "metadata": {},
   "outputs": [
    {
     "name": "stdout",
     "output_type": "stream",
     "text": [
      "带有框的图像已保存在路径: C:/Users/tt186/Desktop/stage_orange/multicamera_result/baseline_gallery0134/00000860.png\n"
     ]
    }
   ],
   "source": [
    "import cv2\n",
    "import os\n",
    "\n",
    "# 指定图像文件路径\n",
    "image_path = 'C:/Users/tt186/Desktop/stage_orange/multicamera_result/baseline_gallery0134/00000860.png'\n",
    "\n",
    "# 检查文件是否存在\n",
    "if not os.path.exists(image_path):\n",
    "    print(f\"文件不存在: {image_path}\")\n",
    "else:\n",
    "    # 加载图像\n",
    "    image = cv2.imread(image_path)\n",
    "\n",
    "    # 检查图像是否成功加载\n",
    "    if image is None:\n",
    "        print(f\"无法加载图像: {image_path}\")\n",
    "    else:\n",
    "        # 指定矩形框的位置\n",
    "        xmin, ymin = 100, 100\n",
    "        xmax, ymax = 200, 200\n",
    "\n",
    "        # 在图像上绘制矩形框，颜色为红色 (BGR格式)\n",
    "        cv2.rectangle(image, (xmin, ymin), (xmax, ymax), (0, 0, 255), 2)\n",
    "\n",
    "        # 保存带有框的图像\n",
    "        save_image_path = image_path  # 直接覆盖原图像\n",
    "        cv2.imwrite(save_image_path, image)\n",
    "\n",
    "        print(f\"带有框的图像已保存在路径: {save_image_path}\")\n",
    "\n"
   ]
  },
  {
   "cell_type": "code",
   "execution_count": null,
   "metadata": {},
   "outputs": [],
   "source": []
  }
 ],
 "metadata": {
  "kernelspec": {
   "display_name": "Python 3 (ipykernel)",
   "language": "python",
   "name": "python3"
  },
  "language_info": {
   "codemirror_mode": {
    "name": "ipython",
    "version": 3
   },
   "file_extension": ".py",
   "mimetype": "text/x-python",
   "name": "python",
   "nbconvert_exporter": "python",
   "pygments_lexer": "ipython3",
   "version": "3.11.5"
  }
 },
 "nbformat": 4,
 "nbformat_minor": 4
}
