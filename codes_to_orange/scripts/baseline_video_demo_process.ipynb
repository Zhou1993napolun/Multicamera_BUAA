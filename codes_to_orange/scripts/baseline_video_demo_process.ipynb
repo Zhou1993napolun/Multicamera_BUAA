{
 "cells": [
  {
   "cell_type": "code",
   "execution_count": 83,
   "metadata": {},
   "outputs": [],
   "source": [
    "import numpy as np\n",
    "import os"
   ]
  },
  {
   "cell_type": "code",
   "execution_count": 193,
   "metadata": {},
   "outputs": [],
   "source": [
    "root = '../orange_demo/video/0134_c6_t0860to0945/'"
   ]
  },
  {
   "cell_type": "code",
   "execution_count": 194,
   "metadata": {},
   "outputs": [],
   "source": [
    "# from collections import defaultdict\n",
    "frame_order = {}\n",
    "paths = []\n",
    "pids = []\n",
    "cnt = 0\n",
    "with open(os.path.join(root,'img_path.txt'), 'r') as f:\n",
    "    for path in f.readlines():\n",
    "        p = path.strip()\n",
    "        # print(p)\n",
    "        paths.append(p)\n",
    "        # print(p.strip('/'))\n",
    "        # print(p.strip('/')[-1][:4])\n",
    "        pid = int(p.split('/')[-1][:4])\n",
    "        pids.append(pid)\n",
    "        # 第一张为query\n",
    "        if not cnt:\n",
    "            cnt += 1\n",
    "            continue\n",
    "        cnt += 1\n",
    "        time = p.split('/')[-1][-8:-4]\n",
    "        if time not in frame_order:\n",
    "            frame_order[time] = 1\n",
    "        else:\n",
    "            frame_order[time] += 1\n",
    "        # break\n",
    "\n",
    "\n",
    "# camids = []\n",
    "# with open(os.path.join(root,'camids.txt'), 'r') as f:\n",
    "#     for camid in f.readlines():\n",
    "#         camids.append(int(camid.strip()))\n",
    "\n",
    "# with open(os.path.join(root,'pids.txt'), 'r') as f:\n",
    "#     for pid in f.readlines():\n",
    "#         pids.append(int(pid.strip()))\n",
    "\n",
    "num_query = 1\n",
    "num_gallery = len(paths) - num_query"
   ]
  },
  {
   "cell_type": "code",
   "execution_count": 195,
   "metadata": {},
   "outputs": [
    {
     "data": {
      "text/plain": [
       "{'0860': 25,\n",
       " '0865': 27,\n",
       " '0870': 29,\n",
       " '0875': 31,\n",
       " '0880': 30,\n",
       " '0885': 26,\n",
       " '0890': 26,\n",
       " '0895': 28,\n",
       " '0900': 30,\n",
       " '0905': 31,\n",
       " '0910': 33,\n",
       " '0915': 34,\n",
       " '0920': 34,\n",
       " '0925': 35,\n",
       " '0930': 36,\n",
       " '0935': 35,\n",
       " '0940': 34,\n",
       " '0945': 30}"
      ]
     },
     "execution_count": 195,
     "metadata": {},
     "output_type": "execute_result"
    }
   ],
   "source": [
    "frame_order"
   ]
  },
  {
   "cell_type": "code",
   "execution_count": 196,
   "metadata": {},
   "outputs": [
    {
     "data": {
      "text/plain": [
       "554"
      ]
     },
     "execution_count": 196,
     "metadata": {},
     "output_type": "execute_result"
    }
   ],
   "source": [
    "num_gallery"
   ]
  },
  {
   "cell_type": "code",
   "execution_count": 197,
   "metadata": {},
   "outputs": [],
   "source": [
    "dist = np.load(os.path.join(root, 'dist.npy'))"
   ]
  },
  {
   "cell_type": "code",
   "execution_count": 198,
   "metadata": {},
   "outputs": [
    {
     "data": {
      "text/plain": [
       "(1, 554)"
      ]
     },
     "execution_count": 198,
     "metadata": {},
     "output_type": "execute_result"
    }
   ],
   "source": [
    "dist.shape"
   ]
  },
  {
   "cell_type": "code",
   "execution_count": 199,
   "metadata": {},
   "outputs": [],
   "source": [
    "dists = []\n",
    "start = 0\n",
    "end = 0\n",
    "for _, v in frame_order.items():\n",
    "    end += v\n",
    "    cur_d = dist[:, start:end]\n",
    "    # print(start, end, cur_d.shape)\n",
    "    dists.append(cur_d)\n",
    "    start = end"
   ]
  },
  {
   "cell_type": "code",
   "execution_count": 200,
   "metadata": {},
   "outputs": [
    {
     "data": {
      "text/plain": [
       "25"
      ]
     },
     "execution_count": 200,
     "metadata": {},
     "output_type": "execute_result"
    }
   ],
   "source": [
    "len(dists[0][0])"
   ]
  },
  {
   "cell_type": "code",
   "execution_count": 201,
   "metadata": {},
   "outputs": [],
   "source": [
    "def sort_rows_and_get_indices(array):\n",
    "    # 获取每一行排序后的索引\n",
    "    # sorted_indices = np.argsort(array, axis=1)[:, ::-1]\n",
    "    sorted_indices = np.argsort(array, axis=1)\n",
    "\n",
    "\n",
    "    # 对每一行进行排序\n",
    "    sorted_rows = np.take_along_axis(array, sorted_indices, axis=1)\n",
    "\n",
    "    return sorted_rows, sorted_indices\n",
    "\n",
    "# 举例一个二维数组\n",
    "example_array = np.array([[3, 1, 4, 1],\n",
    "                          [5, 9, 2, 6],\n",
    "                          [5, 3, 5, 8]])\n",
    "\n",
    "# # 对每一行进行排序并获取索引\n",
    "# sorted_rows, indices = sort_rows_and_get_indices(example_array)\n",
    "\n",
    "# # 打印结果\n",
    "# print(\"原始数组:\")\n",
    "# print(example_array)\n",
    "# print(\"\\n每一行排序后的数组:\")\n",
    "# print(sorted_rows)\n",
    "# print(\"\\n排序后元素在原始行中的索引:\")\n",
    "# print(indices)\n"
   ]
  },
  {
   "cell_type": "code",
   "execution_count": 202,
   "metadata": {},
   "outputs": [],
   "source": [
    "sorted_dists = []\n",
    "sorted_indices = []\n",
    "for d in dists:\n",
    "    sorted_dist, sorted_indice = sort_rows_and_get_indices(d)\n",
    "    sorted_dists.append(sorted_dist)\n",
    "    sorted_indices.append(sorted_indice)"
   ]
  },
  {
   "cell_type": "code",
   "execution_count": 203,
   "metadata": {},
   "outputs": [
    {
     "name": "stdout",
     "output_type": "stream",
     "text": [
      "0.6461003\n",
      "0.69146246\n",
      "5.364418e-07\n",
      "0.5470813\n",
      "0.6091796\n",
      "0.5070686\n",
      "0.7339752\n",
      "0.6778549\n",
      "0.67650115\n",
      "0.6057316\n",
      "0.59031594\n",
      "0.667405\n",
      "0.68005574\n",
      "0.6060013\n",
      "0.6299554\n",
      "0.75499773\n",
      "0.734384\n",
      "0.7071471\n"
     ]
    }
   ],
   "source": [
    "for s in sorted_dists:\n",
    "    print(s[0][0])"
   ]
  },
  {
   "cell_type": "code",
   "execution_count": 204,
   "metadata": {},
   "outputs": [
    {
     "data": {
      "text/plain": [
       "25"
      ]
     },
     "execution_count": 204,
     "metadata": {},
     "output_type": "execute_result"
    }
   ],
   "source": [
    "sorted_indices[0].shape[1]"
   ]
  },
  {
   "cell_type": "code",
   "execution_count": 205,
   "metadata": {},
   "outputs": [],
   "source": [
    "from tqdm import tqdm\n",
    "def get_top_k_similar_pids(array, g_start=0, k=0):\n",
    "    top_k_matches = []\n",
    "    for q_id, g_ids in tqdm(enumerate(sorted_indice)):\n",
    "        q_pid = pids[q_id]\n",
    "        # q_camid = camids[q_id]\n",
    "        l = 0\n",
    "        for g_id in g_ids:\n",
    "            if l >= k:\n",
    "                break\n",
    "            # g_camid = camids[num_query + g_id]\n",
    "            # if q_camid == g_camid:\n",
    "            #     continue\n",
    "            g_pid = pids[num_query + g_start + g_id]\n",
    "            tmp_list=paths[num_query + g_start + g_id], g_pid==q_pid\n",
    "            l += 1\n",
    "        top_k_matches.append(tmp_list)\n",
    "    return top_k_matches"
   ]
  },
  {
   "cell_type": "code",
   "execution_count": 206,
   "metadata": {},
   "outputs": [
    {
     "name": "stderr",
     "output_type": "stream",
     "text": [
      "1it [00:00, 8943.08it/s]\n",
      "1it [00:00, 23967.45it/s]\n",
      "1it [00:00, 24244.53it/s]\n",
      "1it [00:00, 27235.74it/s]\n",
      "1it [00:00, 27235.74it/s]\n",
      "1it [00:00, 17697.49it/s]\n",
      "1it [00:00, 17476.27it/s]\n",
      "1it [00:00, 17403.75it/s]\n",
      "1it [00:00, 17260.51it/s]\n",
      "1it [00:00, 17549.39it/s]\n",
      "1it [00:00, 16777.22it/s]\n",
      "1it [00:00, 17403.75it/s]\n",
      "1it [00:00, 17476.27it/s]\n",
      "1it [00:00, 14873.42it/s]\n",
      "1it [00:00, 16320.25it/s]\n",
      "1it [00:00, 17119.61it/s]\n",
      "1it [00:00, 18001.30it/s]\n",
      "1it [00:00, 21959.71it/s]\n"
     ]
    }
   ],
   "source": [
    "top_5_matches_list = []\n",
    "g_start = 0\n",
    "for sorted_indice in sorted_indices:\n",
    "    top_5_matches = get_top_k_similar_pids(sorted_indice, g_start, 1)\n",
    "    g_start += sorted_indice.shape[1]\n",
    "    top_5_matches_list.append(top_5_matches)"
   ]
  },
  {
   "cell_type": "code",
   "execution_count": 207,
   "metadata": {},
   "outputs": [
    {
     "data": {
      "text/plain": [
       "[[('datasets/Orange_demo_wild/baseline/gallery0134_c6/860/0134_c6_t0860.png',\n",
       "   True)],\n",
       " [('datasets/Orange_demo_wild/baseline/gallery0134_c6/865/0134_c6_t0865.png',\n",
       "   True)],\n",
       " [('datasets/Orange_demo_wild/baseline/gallery0134_c6/870/0134_c6_t0870.png',\n",
       "   True)],\n",
       " [('datasets/Orange_demo_wild/baseline/gallery0134_c6/875/0134_c6_t0875.png',\n",
       "   True)],\n",
       " [('datasets/Orange_demo_wild/baseline/gallery0134_c6/880/0134_c6_t0880.png',\n",
       "   True)],\n",
       " [('datasets/Orange_demo_wild/baseline/gallery0134_c6/885/0134_c6_t0885.png',\n",
       "   True)],\n",
       " [('datasets/Orange_demo_wild/baseline/gallery0134_c6/890/0134_c6_t0890.png',\n",
       "   True)],\n",
       " [('datasets/Orange_demo_wild/baseline/gallery0134_c6/895/0134_c6_t0895.png',\n",
       "   True)],\n",
       " [('datasets/Orange_demo_wild/baseline/gallery0134_c6/900/0134_c6_t0900.png',\n",
       "   True)],\n",
       " [('datasets/Orange_demo_wild/baseline/gallery0134_c6/905/0134_c6_t0905.png',\n",
       "   True)],\n",
       " [('datasets/Orange_demo_wild/baseline/gallery0134_c6/910/0134_c6_t0910.png',\n",
       "   True)],\n",
       " [('datasets/Orange_demo_wild/baseline/gallery0134_c6/915/0134_c6_t0915.png',\n",
       "   True)],\n",
       " [('datasets/Orange_demo_wild/baseline/gallery0134_c6/920/0134_c6_t0920.png',\n",
       "   True)],\n",
       " [('datasets/Orange_demo_wild/baseline/gallery0134_c6/925/0134_c6_t0925.png',\n",
       "   True)],\n",
       " [('datasets/Orange_demo_wild/baseline/gallery0134_c6/930/0134_c6_t0930.png',\n",
       "   True)],\n",
       " [('datasets/Orange_demo_wild/baseline/gallery0134_c6/935/0137_c6_t0935.png',\n",
       "   False)],\n",
       " [('datasets/Orange_demo_wild/baseline/gallery0134_c6/940/0216_c6_t0940.png',\n",
       "   False)],\n",
       " [('datasets/Orange_demo_wild/baseline/gallery0134_c6/945/0194_c6_t0945.png',\n",
       "   False)]]"
      ]
     },
     "execution_count": 207,
     "metadata": {},
     "output_type": "execute_result"
    }
   ],
   "source": [
    "top_5_matches_list"
   ]
  },
  {
   "cell_type": "code",
   "execution_count": 208,
   "metadata": {},
   "outputs": [
    {
     "name": "stdout",
     "output_type": "stream",
     "text": [
      "datasets/Orange_demo_wild/baseline/gallery0134_c6/935/0137_c6_t0935.png 15\n",
      "datasets/Orange_demo_wild/baseline/gallery0134_c6/940/0216_c6_t0940.png 16\n",
      "datasets/Orange_demo_wild/baseline/gallery0134_c6/945/0194_c6_t0945.png 17\n"
     ]
    }
   ],
   "source": [
    "trues = 0\n",
    "cnt = 0\n",
    "for id, item in enumerate(top_5_matches_list):\n",
    "    # print(item)\n",
    "    name, preci = item[0]\n",
    "    if preci:\n",
    "        trues += 1\n",
    "    else:\n",
    "        print(name, id)\n",
    "    cnt += 1"
   ]
  },
  {
   "cell_type": "code",
   "execution_count": 209,
   "metadata": {},
   "outputs": [
    {
     "name": "stdout",
     "output_type": "stream",
     "text": [
      "0 0860\n",
      "1 0865\n",
      "2 0870\n",
      "3 0875\n",
      "4 0880\n",
      "5 0885\n",
      "6 0890\n",
      "7 0895\n",
      "8 0900\n",
      "9 0905\n",
      "10 0910\n",
      "11 0915\n",
      "12 0920\n",
      "13 0925\n",
      "14 0930\n",
      "15 0935\n",
      "16 0940\n",
      "17 0945\n",
      "554\n"
     ]
    }
   ],
   "source": [
    "id = 0\n",
    "s = 0\n",
    "for k, v in frame_order.items():\n",
    "    s += v\n",
    "    print(id,k)\n",
    "    id += 1\n",
    "print(s)"
   ]
  },
  {
   "cell_type": "code",
   "execution_count": 210,
   "metadata": {},
   "outputs": [],
   "source": [
    "with open(os.path.join(root, 'results.txt'), 'w') as f:\n",
    "    for id, item in enumerate(top_5_matches_list):\n",
    "        # print(item)\n",
    "        name, preci = item[0]\n",
    "        f.write(name)\n",
    "        f.write('\\t')\n",
    "        f.write(str(preci))\n",
    "        f.write('\\t')\n",
    "        f.write(str(sorted_dists[id][0][0]))\n",
    "        f.write('\\n')\n"
   ]
  },
  {
   "cell_type": "markdown",
   "metadata": {},
   "source": [
    "for i, x in enumerate(sorted_indice):\n",
    "    print(x[:10])\n",
    "    for item in x:\n",
    "        print(item)\n",
    "        break\n",
    "    break\n",
    "    pass"
   ]
  },
  {
   "cell_type": "code",
   "execution_count": 22,
   "metadata": {},
   "outputs": [],
   "source": [
    "# import json"
   ]
  },
  {
   "cell_type": "code",
   "execution_count": 23,
   "metadata": {},
   "outputs": [],
   "source": [
    "# with open(os.path.join(root, 'matches.json'), 'w') as f:\n",
    "#     json.dump(my_dict, f, indent=4, sort_keys=True)"
   ]
  },
  {
   "cell_type": "code",
   "execution_count": null,
   "metadata": {},
   "outputs": [],
   "source": []
  }
 ],
 "metadata": {
  "kernelspec": {
   "display_name": "fast",
   "language": "python",
   "name": "python3"
  },
  "language_info": {
   "codemirror_mode": {
    "name": "ipython",
    "version": 3
   },
   "file_extension": ".py",
   "mimetype": "text/x-python",
   "name": "python",
   "nbconvert_exporter": "python",
   "pygments_lexer": "ipython3",
   "version": "3.8.14"
  },
  "orig_nbformat": 4
 },
 "nbformat": 4,
 "nbformat_minor": 2
}
