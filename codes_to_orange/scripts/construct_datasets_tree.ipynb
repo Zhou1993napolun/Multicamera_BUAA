{
 "cells": [
  {
   "cell_type": "code",
   "execution_count": 1,
   "metadata": {},
   "outputs": [],
   "source": [
    "import os\n",
    "import json\n",
    "\n",
    "def traverse_directory(current_path, file_dict):\n",
    "    # 遍历当前目录下的所有文件和文件夹\n",
    "    for entry in os.scandir(current_path):\n",
    "        if entry.is_dir():\n",
    "            # 如果是文件夹，递归调用自身，并在字典中创建一个新的子字典\n",
    "            file_dict[entry.name] = {}\n",
    "            traverse_directory(entry.path, file_dict[entry.name])\n",
    "        else:\n",
    "            # 如果是文件，添加到当前字典的列表中\n",
    "            if 'files' not in file_dict:\n",
    "                file_dict['files'] = []\n",
    "            file_dict['files'].append(entry.name)\n",
    "\n",
    "def save_to_json(file_dict, output_file):\n",
    "    # 将字典保存为JSON文件\n",
    "    with open(output_file, 'w', encoding='utf-8') as f:\n",
    "        json.dump(file_dict, f, ensure_ascii=False, indent=4)\n",
    "\n"
   ]
  },
  {
   "cell_type": "code",
   "execution_count": 7,
   "metadata": {},
   "outputs": [
    {
     "data": {
      "text/plain": [
       "'Wildtrack_by_view_and_time'"
      ]
     },
     "execution_count": 7,
     "metadata": {},
     "output_type": "execute_result"
    }
   ],
   "source": [
    "# 指定要遍历的文件夹路径\n",
    "folder_path = '../datasets/Wildtrack_by_view_and_time/'\n",
    "# 初始化字典来存储文件名和文件夹结构\n",
    "folder_tail = folder_path.split('/')[-2]\n",
    "folder_tail"
   ]
  },
  {
   "cell_type": "code",
   "execution_count": 8,
   "metadata": {},
   "outputs": [],
   "source": [
    "file_dict = {}\n",
    "# 遍历文件夹并填充字典\n",
    "traverse_directory(folder_path, file_dict)\n",
    "# 指定输出的JSON文件路径\n",
    "output_file = folder_tail + '_tree.json'\n",
    "# 将字典保存为JSON文件\n",
    "save_to_json(file_dict, output_file)"
   ]
  },
  {
   "cell_type": "code",
   "execution_count": null,
   "metadata": {},
   "outputs": [],
   "source": []
  }
 ],
 "metadata": {
  "kernelspec": {
   "display_name": "fast",
   "language": "python",
   "name": "python3"
  },
  "language_info": {
   "codemirror_mode": {
    "name": "ipython",
    "version": 3
   },
   "file_extension": ".py",
   "mimetype": "text/x-python",
   "name": "python",
   "nbconvert_exporter": "python",
   "pygments_lexer": "ipython3",
   "version": "3.8.14"
  },
  "orig_nbformat": 4
 },
 "nbformat": 4,
 "nbformat_minor": 2
}
