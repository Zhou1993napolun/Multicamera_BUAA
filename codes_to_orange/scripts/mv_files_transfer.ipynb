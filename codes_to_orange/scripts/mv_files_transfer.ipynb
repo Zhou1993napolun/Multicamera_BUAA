{
 "cells": [
  {
   "cell_type": "code",
   "execution_count": 1,
   "metadata": {},
   "outputs": [],
   "source": [
    "import os\n",
    "from os.path import join\n",
    "import shutil"
   ]
  },
  {
   "cell_type": "code",
   "execution_count": 22,
   "metadata": {},
   "outputs": [],
   "source": [
    "root = '../datasets/Wildtrack_by_pid_and_time/'\n",
    "target = '../datasets/Orange_demo_wild/mv/gallery0236_mmoe'"
   ]
  },
  {
   "cell_type": "code",
   "execution_count": 23,
   "metadata": {},
   "outputs": [],
   "source": [
    "files = os.listdir(root)\n",
    "for file in files:\n",
    "    time = file[-4:]\n",
    "    if 575 <= int(time) <= 1995:\n",
    "        shutil.copytree(join(root, file), join(target, file))"
   ]
  },
  {
   "cell_type": "code",
   "execution_count": 26,
   "metadata": {},
   "outputs": [],
   "source": [
    "from glob import glob\n",
    "def create_gallery_by_view(root):\n",
    "    gallery_files = glob(join(root,'*mmoe'))\n",
    "    for gallery_flie in gallery_files:\n",
    "        if not os.path.exists(gallery_flie[:-5]):\n",
    "            os.makedirs(gallery_flie[:-5])\n",
    "        img_files = glob(join(gallery_flie, '0*'))\n",
    "        for img_file in img_files:\n",
    "            imgs = glob(join(img_file,'*.png'))\n",
    "            for img in imgs:\n",
    "                camid = img[-11]\n",
    "                if not os.path.exists(join(gallery_flie[:-5], camid)):\n",
    "                    os.makedirs(join(gallery_flie[:-5], camid))\n",
    "                img_name = os.path.basename(img)\n",
    "                shutil.copy2(img, join(gallery_flie[:-5], camid, img_name))\n",
    "gallery_root = '../datasets/Orange_demo_wild/mv'\n",
    "create_gallery_by_view(gallery_root)"
   ]
  },
  {
   "cell_type": "code",
   "execution_count": null,
   "metadata": {},
   "outputs": [],
   "source": []
  }
 ],
 "metadata": {
  "kernelspec": {
   "display_name": "fast",
   "language": "python",
   "name": "python3"
  },
  "language_info": {
   "codemirror_mode": {
    "name": "ipython",
    "version": 3
   },
   "file_extension": ".py",
   "mimetype": "text/x-python",
   "name": "python",
   "nbconvert_exporter": "python",
   "pygments_lexer": "ipython3",
   "version": "3.8.14"
  },
  "orig_nbformat": 4
 },
 "nbformat": 4,
 "nbformat_minor": 2
}
