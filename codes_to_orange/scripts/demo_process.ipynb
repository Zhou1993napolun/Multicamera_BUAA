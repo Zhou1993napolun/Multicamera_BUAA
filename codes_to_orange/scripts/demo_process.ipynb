{
 "cells": [
  {
   "cell_type": "code",
   "execution_count": 1,
   "metadata": {},
   "outputs": [],
   "source": [
    "import numpy as np\n",
    "import os"
   ]
  },
  {
   "cell_type": "code",
   "execution_count": 11,
   "metadata": {},
   "outputs": [],
   "source": [
    "root = '../orange_demo/baseline_new/'"
   ]
  },
  {
   "cell_type": "code",
   "execution_count": 12,
   "metadata": {},
   "outputs": [],
   "source": [
    "paths = []\n",
    "with open(os.path.join(root,'img_path.txt'), 'r') as f:\n",
    "    for path in f.readlines():\n",
    "        paths.append(path.strip())\n",
    "\n",
    "camids = []\n",
    "with open(os.path.join(root,'camids.txt'), 'r') as f:\n",
    "    for camid in f.readlines():\n",
    "        camids.append(int(camid.strip()))\n",
    "\n",
    "pids = []\n",
    "with open(os.path.join(root,'pids.txt'), 'r') as f:\n",
    "    for pid in f.readlines():\n",
    "        pids.append(int(pid.strip()))\n",
    "\n",
    "num_query = 3843\n",
    "num_gallery = 17242"
   ]
  },
  {
   "cell_type": "code",
   "execution_count": 13,
   "metadata": {},
   "outputs": [],
   "source": [
    "dist = np.load(os.path.join(root, 'dist.npy'))"
   ]
  },
  {
   "cell_type": "code",
   "execution_count": 14,
   "metadata": {},
   "outputs": [
    {
     "data": {
      "text/plain": [
       "17242"
      ]
     },
     "execution_count": 14,
     "metadata": {},
     "output_type": "execute_result"
    }
   ],
   "source": [
    "len(dist[0])"
   ]
  },
  {
   "cell_type": "code",
   "execution_count": 15,
   "metadata": {},
   "outputs": [],
   "source": [
    "def sort_rows_and_get_indices(array):\n",
    "    # 获取每一行排序后的索引\n",
    "    # sorted_indices = np.argsort(array, axis=1)[:, ::-1]\n",
    "    sorted_indices = np.argsort(array, axis=1)\n",
    "\n",
    "\n",
    "    # 对每一行进行排序\n",
    "    sorted_rows = np.take_along_axis(array, sorted_indices, axis=1)\n",
    "\n",
    "    return sorted_rows, sorted_indices\n",
    "\n",
    "# 举例一个二维数组\n",
    "example_array = np.array([[3, 1, 4, 1],\n",
    "                          [5, 9, 2, 6],\n",
    "                          [5, 3, 5, 8]])\n",
    "\n",
    "# # 对每一行进行排序并获取索引\n",
    "# sorted_rows, indices = sort_rows_and_get_indices(example_array)\n",
    "\n",
    "# # 打印结果\n",
    "# print(\"原始数组:\")\n",
    "# print(example_array)\n",
    "# print(\"\\n每一行排序后的数组:\")\n",
    "# print(sorted_rows)\n",
    "# print(\"\\n排序后元素在原始行中的索引:\")\n",
    "# print(indices)\n"
   ]
  },
  {
   "cell_type": "code",
   "execution_count": 16,
   "metadata": {},
   "outputs": [],
   "source": [
    "sorted_dist, sorted_indice = sort_rows_and_get_indices(dist)"
   ]
  },
  {
   "cell_type": "code",
   "execution_count": 17,
   "metadata": {},
   "outputs": [],
   "source": [
    "from tqdm import tqdm\n",
    "def get_top_k_similar_pids(array, k):\n",
    "    top_k_matches = []\n",
    "    for q_id, g_ids in tqdm(enumerate(sorted_indice)):\n",
    "        q_pid = pids[q_id]\n",
    "        q_camid = camids[q_id]\n",
    "        tmp_list = []\n",
    "        l = 0\n",
    "        for g_id in g_ids:\n",
    "            if l >= k:\n",
    "                break\n",
    "            g_camid = camids[num_query + g_id]\n",
    "            if q_camid == g_camid:\n",
    "                continue\n",
    "            g_pid = pids[num_query + g_id]\n",
    "            tmp_list.append([paths[num_query + g_id], g_pid==q_pid])\n",
    "            l += 1\n",
    "        top_k_matches.append(tmp_list)\n",
    "    return top_k_matches"
   ]
  },
  {
   "cell_type": "code",
   "execution_count": 18,
   "metadata": {},
   "outputs": [
    {
     "name": "stderr",
     "output_type": "stream",
     "text": [
      "3843it [00:00, 146388.67it/s]\n"
     ]
    }
   ],
   "source": [
    "top_5_matches = get_top_k_similar_pids(sorted_indice, 1)"
   ]
  },
  {
   "cell_type": "code",
   "execution_count": null,
   "metadata": {},
   "outputs": [],
   "source": []
  },
  {
   "cell_type": "code",
   "execution_count": 19,
   "metadata": {},
   "outputs": [
    {
     "data": {
      "text/plain": [
       "[['datasets/Wildtrack_rerank/test/0119_c7_t1985.png', True]]"
      ]
     },
     "execution_count": 19,
     "metadata": {},
     "output_type": "execute_result"
    }
   ],
   "source": [
    "top_5_matches[3]"
   ]
  },
  {
   "cell_type": "code",
   "execution_count": 20,
   "metadata": {},
   "outputs": [
    {
     "data": {
      "text/plain": [
       "3843"
      ]
     },
     "execution_count": 20,
     "metadata": {},
     "output_type": "execute_result"
    }
   ],
   "source": [
    "len(top_5_matches)\n"
   ]
  },
  {
   "cell_type": "code",
   "execution_count": 21,
   "metadata": {},
   "outputs": [],
   "source": [
    "my_dict = {}\n",
    "for i in range(len(top_5_matches)):\n",
    "    my_dict[paths[i]] = top_5_matches[i]"
   ]
  },
  {
   "cell_type": "markdown",
   "metadata": {},
   "source": [
    "for i, x in enumerate(sorted_indice):\n",
    "    print(x[:10])\n",
    "    for item in x:\n",
    "        print(item)\n",
    "        break\n",
    "    break\n",
    "    pass"
   ]
  },
  {
   "cell_type": "code",
   "execution_count": 22,
   "metadata": {},
   "outputs": [],
   "source": [
    "import json"
   ]
  },
  {
   "cell_type": "code",
   "execution_count": 23,
   "metadata": {},
   "outputs": [],
   "source": [
    "with open(os.path.join(root, 'matches.json'), 'w') as f:\n",
    "    json.dump(my_dict, f, indent=4, sort_keys=True)"
   ]
  },
  {
   "cell_type": "code",
   "execution_count": null,
   "metadata": {},
   "outputs": [],
   "source": []
  }
 ],
 "metadata": {
  "kernelspec": {
   "display_name": "fast",
   "language": "python",
   "name": "python3"
  },
  "language_info": {
   "codemirror_mode": {
    "name": "ipython",
    "version": 3
   },
   "file_extension": ".py",
   "mimetype": "text/x-python",
   "name": "python",
   "nbconvert_exporter": "python",
   "pygments_lexer": "ipython3",
   "version": "3.8.14"
  },
  "orig_nbformat": 4
 },
 "nbformat": 4,
 "nbformat_minor": 2
}
