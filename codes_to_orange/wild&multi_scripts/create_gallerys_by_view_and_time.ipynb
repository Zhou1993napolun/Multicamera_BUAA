{
 "cells": [
  {
   "cell_type": "code",
   "execution_count": 4,
   "metadata": {},
   "outputs": [],
   "source": [
    "import os\n",
    "import shutil\n",
    "from os.path import join, exists\n",
    "from tqdm import tqdm"
   ]
  },
  {
   "cell_type": "code",
   "execution_count": 2,
   "metadata": {},
   "outputs": [],
   "source": [
    "root = '../datasets/Wildtrack_rerank/'\n",
    "root_subsets = ['train', 'test', 'val']\n",
    "dst = '../datasets/Wildtrack_by_view_and_time/'"
   ]
  },
  {
   "cell_type": "code",
   "execution_count": 5,
   "metadata": {},
   "outputs": [],
   "source": [
    "def create_subsets_by_view_and_by_time(root=root, subsets=root_subsets, dst=dst):\n",
    "    cnt = 0\n",
    "    for subset in subsets:\n",
    "        subset_path = join(root, subset)\n",
    "        names = os.listdir(subset_path)\n",
    "        subcnt = 0\n",
    "        for name in tqdm(names):\n",
    "            camid = name[6]\n",
    "            time = str(int(name[9:13]))\n",
    "            cam_file = join(dst, camid)\n",
    "            if not exists(cam_file):\n",
    "                os.makedirs(cam_file)\n",
    "            time_file = join(cam_file, time)\n",
    "            if not exists(time_file):\n",
    "                os.makedirs(time_file)\n",
    "            img_src = join(subset_path, name)\n",
    "            img_dst = join(time_file, name)\n",
    "            shutil.copy2(img_src, img_dst)\n",
    "            subcnt += 1\n",
    "            cnt += 1\n",
    "        print(f'for subset {subset}, {subcnt} imgs transferred')\n",
    "    print(f'totally {cnt} imgs transfered')"
   ]
  },
  {
   "cell_type": "code",
   "execution_count": 6,
   "metadata": {},
   "outputs": [
    {
     "name": "stderr",
     "output_type": "stream",
     "text": [
      "100%|██████████| 17332/17332 [00:02<00:00, 5779.91it/s] \n"
     ]
    },
    {
     "name": "stdout",
     "output_type": "stream",
     "text": [
      "for subset train, 17332 imgs transferred\n"
     ]
    },
    {
     "name": "stderr",
     "output_type": "stream",
     "text": [
      "100%|██████████| 17242/17242 [00:01<00:00, 10935.10it/s]\n"
     ]
    },
    {
     "name": "stdout",
     "output_type": "stream",
     "text": [
      "for subset test, 17242 imgs transferred\n"
     ]
    },
    {
     "name": "stderr",
     "output_type": "stream",
     "text": [
      "100%|██████████| 3843/3843 [00:00<00:00, 10152.62it/s]"
     ]
    },
    {
     "name": "stdout",
     "output_type": "stream",
     "text": [
      "for subset val, 3843 imgs transferred\n",
      "totally 38417 imgs transfered\n"
     ]
    },
    {
     "name": "stderr",
     "output_type": "stream",
     "text": [
      "\n"
     ]
    }
   ],
   "source": [
    "create_subsets_by_view_and_by_time()"
   ]
  },
  {
   "cell_type": "code",
   "execution_count": null,
   "metadata": {},
   "outputs": [],
   "source": []
  }
 ],
 "metadata": {
  "kernelspec": {
   "display_name": "fast",
   "language": "python",
   "name": "python3"
  },
  "language_info": {
   "codemirror_mode": {
    "name": "ipython",
    "version": 3
   },
   "file_extension": ".py",
   "mimetype": "text/x-python",
   "name": "python",
   "nbconvert_exporter": "python",
   "pygments_lexer": "ipython3",
   "version": "3.8.14"
  },
  "orig_nbformat": 4
 },
 "nbformat": 4,
 "nbformat_minor": 2
}
