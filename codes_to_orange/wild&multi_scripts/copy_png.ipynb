{
 "cells": [
  {
   "cell_type": "code",
   "execution_count": 1,
   "metadata": {},
   "outputs": [],
   "source": [
    "import os\n",
    "from os.path import join\n",
    "import shutil"
   ]
  },
  {
   "cell_type": "code",
   "execution_count": 2,
   "metadata": {},
   "outputs": [],
   "source": [
    "root = '../datasets/MultiviewX_eval/'"
   ]
  },
  {
   "cell_type": "code",
   "execution_count": 5,
   "metadata": {},
   "outputs": [],
   "source": [
    "def copy_jpeg_by_name(root, typ='train'):\n",
    "    src = join(root, typ + '_byview')\n",
    "    dst = join(root, typ)\n",
    "    dst_files = os.listdir(dst)\n",
    "    cnt = 0\n",
    "    file_cnt = 0\n",
    "    for dst_file in dst_files:\n",
    "        file_cnt += 1\n",
    "        file_path = join(dst, dst_file)\n",
    "        imgs = os.listdir(file_path)\n",
    "        for img in imgs:\n",
    "            img_name = img.split('.')[0]\n",
    "            camid = img_name[6]\n",
    "            src_path = join(src, camid, img_name + '.jpg')\n",
    "            dst_path = join(file_path, img_name + '.jpg')\n",
    "            shutil.copy2(src_path, dst_path)\n",
    "            cnt += 1\n",
    "    print(f'{file_cnt} files processed')\n",
    "    print(f'{cnt} imgs copied')\n",
    "    "
   ]
  },
  {
   "cell_type": "code",
   "execution_count": 6,
   "metadata": {},
   "outputs": [
    {
     "name": "stdout",
     "output_type": "stream",
     "text": [
      "6972 files processed\n",
      "34040 imgs copied\n"
     ]
    }
   ],
   "source": [
    "copy_jpeg_by_name(root, 'train')"
   ]
  },
  {
   "cell_type": "code",
   "execution_count": 7,
   "metadata": {},
   "outputs": [
    {
     "name": "stdout",
     "output_type": "stream",
     "text": [
      "1549 files processed\n",
      "7583 imgs copied\n"
     ]
    }
   ],
   "source": [
    "copy_jpeg_by_name(root, 'query')\n"
   ]
  },
  {
   "cell_type": "code",
   "execution_count": null,
   "metadata": {},
   "outputs": [],
   "source": []
  }
 ],
 "metadata": {
  "kernelspec": {
   "display_name": "fast",
   "language": "python",
   "name": "python3"
  },
  "language_info": {
   "codemirror_mode": {
    "name": "ipython",
    "version": 3
   },
   "file_extension": ".py",
   "mimetype": "text/x-python",
   "name": "python",
   "nbconvert_exporter": "python",
   "pygments_lexer": "ipython3",
   "version": "3.8.14"
  },
  "orig_nbformat": 4
 },
 "nbformat": 4,
 "nbformat_minor": 2
}
